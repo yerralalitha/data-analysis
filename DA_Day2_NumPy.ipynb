{
  "nbformat": 4,
  "nbformat_minor": 0,
  "metadata": {
    "colab": {
      "provenance": []
    },
    "kernelspec": {
      "name": "python3",
      "display_name": "Python 3"
    },
    "language_info": {
      "name": "python"
    }
  },
  "cells": [
    {
      "cell_type": "code",
      "source": [
        "import numpy as np"
      ],
      "metadata": {
        "id": "KsctHXCMrjVq"
      },
      "execution_count": null,
      "outputs": []
    },
    {
      "cell_type": "markdown",
      "source": [
        "RANDOM MODULE IS SUB-PACKAGE OF NUMPY"
      ],
      "metadata": {
        "id": "TUurmPwHtx3r"
      }
    },
    {
      "cell_type": "code",
      "execution_count": null,
      "metadata": {
        "colab": {
          "base_uri": "https://localhost:8080/"
        },
        "id": "8M6k_WIbq81f",
        "outputId": "781b37f3-20fc-4185-84b1-5ead929d8a98"
      },
      "outputs": [
        {
          "output_type": "stream",
          "name": "stdout",
          "text": [
            "[[1. 1. 1. 1. 1. 1. 1. 1.]\n",
            " [1. 1. 1. 1. 1. 1. 1. 1.]\n",
            " [1. 1. 1. 1. 1. 1. 1. 1.]\n",
            " [1. 1. 1. 1. 1. 1. 1. 1.]]\n"
          ]
        }
      ],
      "source": [
        "N=np.ones((4,8))\n",
        "print(N)"
      ]
    },
    {
      "cell_type": "code",
      "source": [
        "A=np.random.rand(1)\n",
        "print(A)"
      ],
      "metadata": {
        "colab": {
          "base_uri": "https://localhost:8080/"
        },
        "id": "VWFmroWisx7Z",
        "outputId": "8eb33bf4-f038-4029-b40c-966f3d1c984c"
      },
      "execution_count": null,
      "outputs": [
        {
          "output_type": "stream",
          "name": "stdout",
          "text": [
            "[0.66339877]\n"
          ]
        }
      ]
    },
    {
      "cell_type": "code",
      "source": [
        "B=np.random.rand(8,4) #rand-range is between 0 and 1\n",
        "print(B)"
      ],
      "metadata": {
        "colab": {
          "base_uri": "https://localhost:8080/"
        },
        "id": "BYqHO3FAtLYH",
        "outputId": "d7df6b94-0ac0-4301-f043-906576073f58"
      },
      "execution_count": null,
      "outputs": [
        {
          "output_type": "stream",
          "name": "stdout",
          "text": [
            "[[0.44710556 0.70343578 0.5511194  0.15674943]\n",
            " [0.67944511 0.29471383 0.47849895 0.57657813]\n",
            " [0.78875544 0.06585902 0.91450866 0.26452991]\n",
            " [0.15324077 0.7026306  0.80034349 0.7087011 ]\n",
            " [0.06175068 0.43957179 0.50126301 0.29192061]\n",
            " [0.62963304 0.68837365 0.36208082 0.20950554]\n",
            " [0.60327736 0.68220652 0.70823164 0.24456726]\n",
            " [0.42955578 0.08283059 0.33935455 0.46682448]]\n"
          ]
        }
      ]
    },
    {
      "cell_type": "code",
      "source": [
        "C=10*np.random.rand(8,4) #rand-range is between 0 and 1\n",
        "print(C)"
      ],
      "metadata": {
        "colab": {
          "base_uri": "https://localhost:8080/"
        },
        "id": "jwBB-km4t4tN",
        "outputId": "682a0cb9-2a55-4b66-e63a-949fde9e1b6c"
      },
      "execution_count": null,
      "outputs": [
        {
          "output_type": "stream",
          "name": "stdout",
          "text": [
            "[[3.01835207 8.43068869 4.80150947 2.35169576]\n",
            " [8.212324   6.15170744 4.48617583 9.95514014]\n",
            " [6.20950209 8.23854843 1.78981181 0.92785992]\n",
            " [1.42876376 8.184541   6.07080343 1.07493655]\n",
            " [5.53739826 4.81544677 3.1868685  0.96646077]\n",
            " [8.92926693 8.24071158 9.90245319 0.30195684]\n",
            " [1.81462771 7.26794653 3.20380869 6.7754956 ]\n",
            " [9.63438118 7.77654144 1.96598381 0.5755205 ]]\n"
          ]
        }
      ]
    },
    {
      "cell_type": "code",
      "source": [
        "D=np.floor(10*np.random.rand(8,4)) #rand-range is between 0 and 1\n",
        "print(D)"
      ],
      "metadata": {
        "colab": {
          "base_uri": "https://localhost:8080/"
        },
        "id": "lpp80FxdvRem",
        "outputId": "1e211693-6bc1-45f0-edb4-5a74979bae69"
      },
      "execution_count": null,
      "outputs": [
        {
          "output_type": "stream",
          "name": "stdout",
          "text": [
            "[[7. 9. 6. 9.]\n",
            " [5. 2. 7. 6.]\n",
            " [1. 0. 4. 2.]\n",
            " [2. 6. 9. 6.]\n",
            " [7. 6. 8. 1.]\n",
            " [6. 3. 7. 6.]\n",
            " [4. 0. 5. 7.]\n",
            " [2. 3. 5. 7.]]\n"
          ]
        }
      ]
    },
    {
      "cell_type": "code",
      "source": [
        "E=np.arange(1,33).reshape(8,4)\n",
        "print(E)"
      ],
      "metadata": {
        "colab": {
          "base_uri": "https://localhost:8080/"
        },
        "id": "UPd05tIvvk8w",
        "outputId": "8edaa661-b814-404b-f0fa-1285336c8811"
      },
      "execution_count": null,
      "outputs": [
        {
          "output_type": "stream",
          "name": "stdout",
          "text": [
            "[[ 1  2  3  4]\n",
            " [ 5  6  7  8]\n",
            " [ 9 10 11 12]\n",
            " [13 14 15 16]\n",
            " [17 18 19 20]\n",
            " [21 22 23 24]\n",
            " [25 26 27 28]\n",
            " [29 30 31 32]]\n"
          ]
        }
      ]
    },
    {
      "cell_type": "code",
      "source": [
        "np.vsplit(E,4) #Vertical split"
      ],
      "metadata": {
        "colab": {
          "base_uri": "https://localhost:8080/"
        },
        "id": "mQEFP7MSw4-L",
        "outputId": "0d512706-d015-46bf-eaed-b682a021f003"
      },
      "execution_count": null,
      "outputs": [
        {
          "output_type": "execute_result",
          "data": {
            "text/plain": [
              "[array([[1, 2, 3, 4],\n",
              "        [5, 6, 7, 8]]),\n",
              " array([[ 9, 10, 11, 12],\n",
              "        [13, 14, 15, 16]]),\n",
              " array([[17, 18, 19, 20],\n",
              "        [21, 22, 23, 24]]),\n",
              " array([[25, 26, 27, 28],\n",
              "        [29, 30, 31, 32]])]"
            ]
          },
          "metadata": {},
          "execution_count": 28
        }
      ]
    },
    {
      "cell_type": "code",
      "source": [
        "np.split(E,(3,5)) #split it after 3rd row and 5th row"
      ],
      "metadata": {
        "colab": {
          "base_uri": "https://localhost:8080/"
        },
        "id": "dR_vYKWPx6gB",
        "outputId": "490cb5aa-872c-45c6-d816-7c2d054b47c4"
      },
      "execution_count": null,
      "outputs": [
        {
          "output_type": "execute_result",
          "data": {
            "text/plain": [
              "[array([[ 1,  2,  3,  4],\n",
              "        [ 5,  6,  7,  8],\n",
              "        [ 9, 10, 11, 12]]),\n",
              " array([[13, 14, 15, 16],\n",
              "        [17, 18, 19, 20]]),\n",
              " array([[21, 22, 23, 24],\n",
              "        [25, 26, 27, 28],\n",
              "        [29, 30, 31, 32]])]"
            ]
          },
          "metadata": {},
          "execution_count": 32
        }
      ]
    },
    {
      "cell_type": "code",
      "source": [
        "F=np.arange(1,33).reshape(4,8)\n",
        "print(F)"
      ],
      "metadata": {
        "colab": {
          "base_uri": "https://localhost:8080/"
        },
        "id": "e4z9VFa4zCUs",
        "outputId": "1d795a3a-9d5f-4923-e2f8-690a5c275898"
      },
      "execution_count": null,
      "outputs": [
        {
          "output_type": "stream",
          "name": "stdout",
          "text": [
            "[[ 1  2  3  4  5  6  7  8]\n",
            " [ 9 10 11 12 13 14 15 16]\n",
            " [17 18 19 20 21 22 23 24]\n",
            " [25 26 27 28 29 30 31 32]]\n"
          ]
        }
      ]
    },
    {
      "cell_type": "code",
      "source": [
        "np.hsplit(F,4) #Horizontal split"
      ],
      "metadata": {
        "colab": {
          "base_uri": "https://localhost:8080/"
        },
        "id": "_pdH90kdz8cp",
        "outputId": "135956cd-f519-436c-bef7-ce4537f99745"
      },
      "execution_count": null,
      "outputs": [
        {
          "output_type": "execute_result",
          "data": {
            "text/plain": [
              "[array([[ 1,  2],\n",
              "        [ 9, 10],\n",
              "        [17, 18],\n",
              "        [25, 26]]),\n",
              " array([[ 3,  4],\n",
              "        [11, 12],\n",
              "        [19, 20],\n",
              "        [27, 28]]),\n",
              " array([[ 5,  6],\n",
              "        [13, 14],\n",
              "        [21, 22],\n",
              "        [29, 30]]),\n",
              " array([[ 7,  8],\n",
              "        [15, 16],\n",
              "        [23, 24],\n",
              "        [31, 32]])]"
            ]
          },
          "metadata": {},
          "execution_count": 36
        }
      ]
    },
    {
      "cell_type": "code",
      "source": [
        "np.hsplit(F,(3,7))"
      ],
      "metadata": {
        "colab": {
          "base_uri": "https://localhost:8080/"
        },
        "id": "BWcLdG9i0jlH",
        "outputId": "8afe5683-f43d-4d98-959f-0fa41fae28b4"
      },
      "execution_count": null,
      "outputs": [
        {
          "output_type": "execute_result",
          "data": {
            "text/plain": [
              "[array([[ 1,  2,  3],\n",
              "        [ 9, 10, 11],\n",
              "        [17, 18, 19],\n",
              "        [25, 26, 27]]),\n",
              " array([[ 4,  5,  6,  7],\n",
              "        [12, 13, 14, 15],\n",
              "        [20, 21, 22, 23],\n",
              "        [28, 29, 30, 31]]),\n",
              " array([[ 8],\n",
              "        [16],\n",
              "        [24],\n",
              "        [32]])]"
            ]
          },
          "metadata": {},
          "execution_count": 39
        }
      ]
    },
    {
      "cell_type": "code",
      "source": [
        "np.hsplit(F,(2,5))"
      ],
      "metadata": {
        "colab": {
          "base_uri": "https://localhost:8080/"
        },
        "id": "lQKz97sF2ovb",
        "outputId": "322e2d45-fda9-4a8d-ffb6-2d84688f8687"
      },
      "execution_count": null,
      "outputs": [
        {
          "output_type": "execute_result",
          "data": {
            "text/plain": [
              "[array([[ 1,  2],\n",
              "        [ 9, 10],\n",
              "        [17, 18],\n",
              "        [25, 26]]),\n",
              " array([[ 3,  4,  5],\n",
              "        [11, 12, 13],\n",
              "        [19, 20, 21],\n",
              "        [27, 28, 29]]),\n",
              " array([[ 6,  7,  8],\n",
              "        [14, 15, 16],\n",
              "        [22, 23, 24],\n",
              "        [30, 31, 32]])]"
            ]
          },
          "metadata": {},
          "execution_count": 40
        }
      ]
    },
    {
      "cell_type": "markdown",
      "source": [
        "TRIGONOMETRY"
      ],
      "metadata": {
        "id": "-5WICY4u3eL5"
      }
    },
    {
      "cell_type": "code",
      "source": [
        "np.pi"
      ],
      "metadata": {
        "colab": {
          "base_uri": "https://localhost:8080/"
        },
        "id": "bEJM-4aM3k9M",
        "outputId": "51bc385b-2712-4c60-bdd3-0b6037f74247"
      },
      "execution_count": null,
      "outputs": [
        {
          "output_type": "execute_result",
          "data": {
            "text/plain": [
              "3.141592653589793"
            ]
          },
          "metadata": {},
          "execution_count": 41
        }
      ]
    },
    {
      "cell_type": "code",
      "source": [
        "G=[np.pi/4,np.pi/3,np.pi/2,np.pi]\n",
        "print(G)"
      ],
      "metadata": {
        "colab": {
          "base_uri": "https://localhost:8080/"
        },
        "id": "z0Qa91Jh3y4I",
        "outputId": "bc59bb2b-f086-4055-df53-bc34ececab85"
      },
      "execution_count": null,
      "outputs": [
        {
          "output_type": "stream",
          "name": "stdout",
          "text": [
            "[0.7853981633974483, 1.0471975511965976, 1.5707963267948966, 3.141592653589793]\n"
          ]
        }
      ]
    },
    {
      "cell_type": "code",
      "source": [
        "np.rad2deg(G)   #convert radians to degrees"
      ],
      "metadata": {
        "colab": {
          "base_uri": "https://localhost:8080/"
        },
        "id": "Lsbcxdzq4I_R",
        "outputId": "3a0fa4b5-83df-45d2-a0c0-e78345b44f26"
      },
      "execution_count": null,
      "outputs": [
        {
          "output_type": "execute_result",
          "data": {
            "text/plain": [
              "array([ 45.,  60.,  90., 180.])"
            ]
          },
          "metadata": {},
          "execution_count": 53
        }
      ]
    },
    {
      "cell_type": "code",
      "source": [
        "np.deg2rad(G)     #convert degrees to radians"
      ],
      "metadata": {
        "colab": {
          "base_uri": "https://localhost:8080/"
        },
        "id": "1meGT71C4Vd3",
        "outputId": "558a1e74-6165-4802-abd2-99cdec6b9957"
      },
      "execution_count": null,
      "outputs": [
        {
          "output_type": "execute_result",
          "data": {
            "text/plain": [
              "array([0.01370778, 0.01827705, 0.02741557, 0.05483114])"
            ]
          },
          "metadata": {},
          "execution_count": 48
        }
      ]
    },
    {
      "cell_type": "code",
      "source": [
        "np.sin(1)"
      ],
      "metadata": {
        "colab": {
          "base_uri": "https://localhost:8080/"
        },
        "id": "ncffCwVU51QM",
        "outputId": "4d2193ee-01c4-49f6-a207-5d7af2ab7df9"
      },
      "execution_count": null,
      "outputs": [
        {
          "output_type": "execute_result",
          "data": {
            "text/plain": [
              "0.8414709848078965"
            ]
          },
          "metadata": {},
          "execution_count": 49
        }
      ]
    },
    {
      "cell_type": "code",
      "source": [
        "np.cos(1)"
      ],
      "metadata": {
        "colab": {
          "base_uri": "https://localhost:8080/"
        },
        "id": "9omNt2Vu55uZ",
        "outputId": "0454b659-c3b4-4eb4-d8d8-ec1927d51b93"
      },
      "execution_count": null,
      "outputs": [
        {
          "output_type": "execute_result",
          "data": {
            "text/plain": [
              "0.5403023058681398"
            ]
          },
          "metadata": {},
          "execution_count": 51
        }
      ]
    },
    {
      "cell_type": "code",
      "source": [
        "p=np.tan(1)\n",
        "print(p)"
      ],
      "metadata": {
        "colab": {
          "base_uri": "https://localhost:8080/"
        },
        "id": "FfTRzlFa58rJ",
        "outputId": "3273f0cb-612e-4f77-8bfb-4a7beb4b234d"
      },
      "execution_count": null,
      "outputs": [
        {
          "output_type": "stream",
          "name": "stdout",
          "text": [
            "1.5574077246549023\n"
          ]
        }
      ]
    },
    {
      "cell_type": "markdown",
      "source": [
        "STATISTICS"
      ],
      "metadata": {
        "id": "EKsfMnfT6erY"
      }
    },
    {
      "cell_type": "code",
      "source": [
        "st=np.array([23,45,67,89,10,85])\n",
        "print(st)"
      ],
      "metadata": {
        "colab": {
          "base_uri": "https://localhost:8080/"
        },
        "id": "_mgoQLHT6jKb",
        "outputId": "ba39c4b6-09c7-4e29-bda4-17eb840b06f8"
      },
      "execution_count": null,
      "outputs": [
        {
          "output_type": "stream",
          "name": "stdout",
          "text": [
            "[23 45 67 89 10 85]\n"
          ]
        }
      ]
    },
    {
      "cell_type": "code",
      "source": [
        "np.mean(st)"
      ],
      "metadata": {
        "colab": {
          "base_uri": "https://localhost:8080/"
        },
        "id": "bav8-Mez7PrL",
        "outputId": "2b904a32-c37e-4322-b514-4fad92d4cf5f"
      },
      "execution_count": null,
      "outputs": [
        {
          "output_type": "execute_result",
          "data": {
            "text/plain": [
              "53.166666666666664"
            ]
          },
          "metadata": {},
          "execution_count": 60
        }
      ]
    },
    {
      "cell_type": "code",
      "source": [
        "np.median(st)"
      ],
      "metadata": {
        "colab": {
          "base_uri": "https://localhost:8080/"
        },
        "id": "RdnQHNML7dB4",
        "outputId": "9bc9a603-9d9d-4c2f-daed-9c7a4afe063d"
      },
      "execution_count": null,
      "outputs": [
        {
          "output_type": "execute_result",
          "data": {
            "text/plain": [
              "56.0"
            ]
          },
          "metadata": {},
          "execution_count": 61
        }
      ]
    },
    {
      "cell_type": "code",
      "source": [
        "np.var(st)         #variance formula"
      ],
      "metadata": {
        "colab": {
          "base_uri": "https://localhost:8080/"
        },
        "id": "W0NGqoj_7gbT",
        "outputId": "a9da1cfe-83bb-4cf8-f5df-5a35bbaee72f"
      },
      "execution_count": null,
      "outputs": [
        {
          "output_type": "execute_result",
          "data": {
            "text/plain": [
              "888.138888888889"
            ]
          },
          "metadata": {},
          "execution_count": 62
        }
      ]
    },
    {
      "cell_type": "code",
      "source": [
        "np.std(st)      #standard deviation formula"
      ],
      "metadata": {
        "colab": {
          "base_uri": "https://localhost:8080/"
        },
        "id": "JNI0-vcN8aEz",
        "outputId": "b76f5aba-a2e9-4206-d201-54f1fd2145ae"
      },
      "execution_count": null,
      "outputs": [
        {
          "output_type": "execute_result",
          "data": {
            "text/plain": [
              "29.801659163356813"
            ]
          },
          "metadata": {},
          "execution_count": 64
        }
      ]
    },
    {
      "cell_type": "code",
      "source": [
        "I=np.arange(1,5).reshape(2,2)\n",
        "print(I)"
      ],
      "metadata": {
        "colab": {
          "base_uri": "https://localhost:8080/"
        },
        "id": "fJe74YIM9_67",
        "outputId": "f8122a44-0a32-4cce-806d-ff45d893808e"
      },
      "execution_count": null,
      "outputs": [
        {
          "output_type": "stream",
          "name": "stdout",
          "text": [
            "[[1 2]\n",
            " [3 4]]\n"
          ]
        }
      ]
    },
    {
      "cell_type": "code",
      "source": [
        "I=np.linalg.inv(I)  #inverse of a matrix"
      ],
      "metadata": {
        "colab": {
          "base_uri": "https://localhost:8080/"
        },
        "id": "CWzJxjGB-8nb",
        "outputId": "6bc0484f-2f38-430c-d2bd-abac0dfa3e1b"
      },
      "execution_count": null,
      "outputs": [
        {
          "output_type": "execute_result",
          "data": {
            "text/plain": [
              "array([[-2. ,  1. ],\n",
              "       [ 1.5, -0.5]])"
            ]
          },
          "metadata": {},
          "execution_count": 68
        }
      ]
    },
    {
      "cell_type": "code",
      "source": [
        "np.argmax(I)"
      ],
      "metadata": {
        "colab": {
          "base_uri": "https://localhost:8080/"
        },
        "id": "iX4RGTRx_4OA",
        "outputId": "ba52aedd-5f7a-4572-96ac-57c8f3e84ac1"
      },
      "execution_count": null,
      "outputs": [
        {
          "output_type": "execute_result",
          "data": {
            "text/plain": [
              "3"
            ]
          },
          "metadata": {},
          "execution_count": 70
        }
      ]
    },
    {
      "cell_type": "code",
      "source": [
        "J=np.floor(10*np.random.rand(24)).reshape(6,4)\n",
        "print(J)"
      ],
      "metadata": {
        "colab": {
          "base_uri": "https://localhost:8080/"
        },
        "id": "rzIeeuaNAW43",
        "outputId": "20fb1332-6018-43a7-bd8a-668278f4c53c"
      },
      "execution_count": null,
      "outputs": [
        {
          "output_type": "stream",
          "name": "stdout",
          "text": [
            "[[4. 7. 5. 8.]\n",
            " [7. 8. 6. 1.]\n",
            " [5. 0. 5. 7.]\n",
            " [0. 5. 6. 3.]\n",
            " [6. 4. 6. 7.]\n",
            " [3. 1. 7. 0.]]\n"
          ]
        }
      ]
    },
    {
      "cell_type": "code",
      "source": [
        "np.argmax(J) #maximum number index will print (9 is biggest number in above number & it print 9 index)"
      ],
      "metadata": {
        "colab": {
          "base_uri": "https://localhost:8080/"
        },
        "id": "wLl2ycKsBQXp",
        "outputId": "535c845d-b3c0-40ca-f055-20e18d8663ed"
      },
      "execution_count": null,
      "outputs": [
        {
          "output_type": "execute_result",
          "data": {
            "text/plain": [
              "0"
            ]
          },
          "metadata": {},
          "execution_count": 8
        }
      ]
    },
    {
      "cell_type": "code",
      "source": [
        "np.argmax(J,1)  #biggest number in every row"
      ],
      "metadata": {
        "colab": {
          "base_uri": "https://localhost:8080/"
        },
        "id": "Zqa2ir17BoTd",
        "outputId": "716f2a51-a38a-4117-a84f-9d151b1f15ab"
      },
      "execution_count": null,
      "outputs": [
        {
          "output_type": "execute_result",
          "data": {
            "text/plain": [
              "array([0, 3, 1, 1, 1, 1])"
            ]
          },
          "metadata": {},
          "execution_count": 9
        }
      ]
    },
    {
      "cell_type": "code",
      "source": [
        "np.argmin(J,axis=0)"
      ],
      "metadata": {
        "colab": {
          "base_uri": "https://localhost:8080/"
        },
        "id": "0BdzU9xECu8P",
        "outputId": "306a0973-df8e-463b-930b-02efcb3d975f"
      },
      "execution_count": null,
      "outputs": [
        {
          "output_type": "execute_result",
          "data": {
            "text/plain": [
              "array([3, 0, 1, 5])"
            ]
          },
          "metadata": {},
          "execution_count": 7
        }
      ]
    },
    {
      "cell_type": "code",
      "source": [
        "np.argmax(J,axis=1)"
      ],
      "metadata": {
        "colab": {
          "base_uri": "https://localhost:8080/"
        },
        "id": "5Ga5YGmAC4Hu",
        "outputId": "ed081455-b2a4-4d0e-85b2-1f50bd18c8e8"
      },
      "execution_count": null,
      "outputs": [
        {
          "output_type": "execute_result",
          "data": {
            "text/plain": [
              "array([1, 0, 3, 0, 0, 1])"
            ]
          },
          "metadata": {},
          "execution_count": 84
        }
      ]
    },
    {
      "cell_type": "code",
      "source": [
        "print(np.argmin(J))"
      ],
      "metadata": {
        "colab": {
          "base_uri": "https://localhost:8080/"
        },
        "id": "frWCs9YNEjEE",
        "outputId": "ebbcc38c-e1bf-4a4b-cc17-dcf0e5512dde"
      },
      "execution_count": null,
      "outputs": [
        {
          "output_type": "stream",
          "name": "stdout",
          "text": [
            "20\n"
          ]
        }
      ]
    },
    {
      "cell_type": "code",
      "source": [
        "print(np.argmin(J,axis=1))"
      ],
      "metadata": {
        "colab": {
          "base_uri": "https://localhost:8080/"
        },
        "id": "CDpae3tDEpEu",
        "outputId": "1bafb268-9eaf-44fd-8c84-f75ce9c8690b"
      },
      "execution_count": null,
      "outputs": [
        {
          "output_type": "stream",
          "name": "stdout",
          "text": [
            "[0 1 1 2 2 0]\n"
          ]
        }
      ]
    },
    {
      "cell_type": "code",
      "source": [
        "print(np.argmin(J,axis=0))"
      ],
      "metadata": {
        "colab": {
          "base_uri": "https://localhost:8080/"
        },
        "id": "l_JeUDdCEwEJ",
        "outputId": "77f13be7-c307-4057-c98c-b26472959a75"
      },
      "execution_count": null,
      "outputs": [
        {
          "output_type": "stream",
          "name": "stdout",
          "text": [
            "[5 1 5 4]\n"
          ]
        }
      ]
    },
    {
      "cell_type": "markdown",
      "source": [
        "SEARCHING"
      ],
      "metadata": {
        "id": "eq-HOdmOFNTc"
      }
    },
    {
      "cell_type": "code",
      "source": [
        "K=np.array([36,48,93,58,77])\n",
        "print(np.where(K%2==0))"
      ],
      "metadata": {
        "colab": {
          "base_uri": "https://localhost:8080/"
        },
        "id": "s3EKJSg9FPy2",
        "outputId": "8de64c0f-fce4-4229-857f-64e0d0ac0a32"
      },
      "execution_count": null,
      "outputs": [
        {
          "output_type": "stream",
          "name": "stdout",
          "text": [
            "(array([0, 1, 3]),)\n"
          ]
        }
      ]
    },
    {
      "cell_type": "code",
      "source": [
        "L=np.array([24,16,7,17,54,60])\n",
        "print(np.where(L%6==0))"
      ],
      "metadata": {
        "colab": {
          "base_uri": "https://localhost:8080/"
        },
        "id": "8jJ6yQdRGGVh",
        "outputId": "85e0f7f3-4688-424b-a343-1fea091436ce"
      },
      "execution_count": null,
      "outputs": [
        {
          "output_type": "stream",
          "name": "stdout",
          "text": [
            "(array([0, 4, 5]),)\n"
          ]
        }
      ]
    },
    {
      "cell_type": "code",
      "source": [
        "M=np.array([1,2,3,4,5,6,7,8,9])\n",
        "x=np.searchsorted(M,7)\n",
        "print(x)"
      ],
      "metadata": {
        "colab": {
          "base_uri": "https://localhost:8080/"
        },
        "id": "AjZcTZGvHhwT",
        "outputId": "8700c4d7-b468-41cd-a20b-c308c07c5e12"
      },
      "execution_count": null,
      "outputs": [
        {
          "output_type": "stream",
          "name": "stdout",
          "text": [
            "6\n"
          ]
        }
      ]
    },
    {
      "cell_type": "code",
      "source": [
        "N=np.array([7,46,6,1,4])\n",
        "x=np.searchsorted(L,1)\n",
        "print(x)"
      ],
      "metadata": {
        "colab": {
          "base_uri": "https://localhost:8080/"
        },
        "id": "BXY0Y31ZH6vT",
        "outputId": "fefd95ff-7b5e-4057-a32d-3aef92a0d35a"
      },
      "execution_count": null,
      "outputs": [
        {
          "output_type": "stream",
          "name": "stdout",
          "text": [
            "0\n"
          ]
        }
      ]
    },
    {
      "cell_type": "code",
      "source": [
        "print(np.sort(N))"
      ],
      "metadata": {
        "colab": {
          "base_uri": "https://localhost:8080/"
        },
        "id": "Aeeq8h1kIkCN",
        "outputId": "f1d8bf2e-b61e-4a57-cc51-ab252dafcb00"
      },
      "execution_count": null,
      "outputs": [
        {
          "output_type": "stream",
          "name": "stdout",
          "text": [
            "[ 1  4  6  7 46]\n"
          ]
        }
      ]
    },
    {
      "cell_type": "code",
      "source": [
        "O=np.array(['hi','hello','good','morning','krishna','radha']) #sorted array\n",
        "print(np.sort(O))"
      ],
      "metadata": {
        "colab": {
          "base_uri": "https://localhost:8080/"
        },
        "id": "lBpOpLQEI2A2",
        "outputId": "9b3b66ab-ab03-4aaa-e22f-ee793ef9ad5d"
      },
      "execution_count": null,
      "outputs": [
        {
          "output_type": "stream",
          "name": "stdout",
          "text": [
            "['good' 'hello' 'hi' 'krishna' 'morning' 'radha']\n"
          ]
        }
      ]
    },
    {
      "cell_type": "code",
      "source": [
        "P=np.array([[3,4,1],[8,5,2]]) #2D sorted ->sorting happens within row\n",
        "print(np.sort(P))"
      ],
      "metadata": {
        "colab": {
          "base_uri": "https://localhost:8080/"
        },
        "id": "Ll2PQsMGJgJ3",
        "outputId": "66554acd-7fc3-4f7d-bd0f-b000d2b384a4"
      },
      "execution_count": null,
      "outputs": [
        {
          "output_type": "stream",
          "name": "stdout",
          "text": [
            "[[1 3 4]\n",
            " [2 5 8]]\n"
          ]
        }
      ]
    },
    {
      "cell_type": "markdown",
      "source": [
        "FILTERING"
      ],
      "metadata": {
        "id": "QJyb65E1MssR"
      }
    },
    {
      "cell_type": "code",
      "source": [
        "Q=np.array([40,74,77,93,44])\n",
        "filt=np.where(Q%2==0)\n",
        "print(filt)"
      ],
      "metadata": {
        "colab": {
          "base_uri": "https://localhost:8080/"
        },
        "id": "oztesPTTL_P0",
        "outputId": "92bc8497-50af-4835-9c32-ed35361d5bc4"
      },
      "execution_count": null,
      "outputs": [
        {
          "output_type": "stream",
          "name": "stdout",
          "text": [
            "(array([0, 1, 4]),)\n"
          ]
        }
      ]
    },
    {
      "cell_type": "code",
      "source": [
        "print(Q[filt])"
      ],
      "metadata": {
        "colab": {
          "base_uri": "https://localhost:8080/"
        },
        "id": "0MW2mxa8MnqH",
        "outputId": "78ce7847-b096-4bfc-b4a1-297b0adea1c5"
      },
      "execution_count": null,
      "outputs": [
        {
          "output_type": "stream",
          "name": "stdout",
          "text": [
            "[40 74 44]\n"
          ]
        }
      ]
    },
    {
      "cell_type": "markdown",
      "source": [
        "ITERATING TO ARRAYS"
      ],
      "metadata": {
        "id": "BrT59JlHOlJ4"
      }
    },
    {
      "cell_type": "code",
      "source": [
        "names=np.array(['Jwalitha','Lalli','Likhi','Suji','Prassu','Sudha'])\n",
        "initials=np.array(['K','Y','S','E','CH','M'])\n",
        "for i,j in zip(initials,names):\n",
        "  print(i,\".\",j)"
      ],
      "metadata": {
        "colab": {
          "base_uri": "https://localhost:8080/"
        },
        "id": "nAZ2nnTMMvp4",
        "outputId": "36fc26a6-78bf-44b4-cb74-948165993611"
      },
      "execution_count": null,
      "outputs": [
        {
          "output_type": "stream",
          "name": "stdout",
          "text": [
            "K . Jwalitha\n",
            "Y . Lalli\n",
            "S . Likhi\n",
            "E . Suji\n",
            "CH . Prassu\n",
            "M . Sudha\n"
          ]
        }
      ]
    },
    {
      "cell_type": "code",
      "source": [
        "a1=np.array([10,20,30,40,50,60])\n",
        "a2=np.array([70,80,90,21,23,17])\n",
        "n=np.multiply(a1,a2)\n",
        "print(n)\n"
      ],
      "metadata": {
        "colab": {
          "base_uri": "https://localhost:8080/"
        },
        "id": "UtiHac-NOqRP",
        "outputId": "a21ac6d4-3b2e-4673-b7f1-724238f040f9"
      },
      "execution_count": null,
      "outputs": [
        {
          "output_type": "stream",
          "name": "stdout",
          "text": [
            "[ 700 1600 2700  840 1150 1020]\n"
          ]
        }
      ]
    },
    {
      "cell_type": "code",
      "source": [
        "n=np.divide(a1,a2)\n",
        "print(n)"
      ],
      "metadata": {
        "colab": {
          "base_uri": "https://localhost:8080/"
        },
        "id": "ahMpwlguQ-sI",
        "outputId": "bdfe3b30-5ac1-4f59-93f0-34bb6aa3b950"
      },
      "execution_count": null,
      "outputs": [
        {
          "output_type": "stream",
          "name": "stdout",
          "text": [
            "[0.14285714 0.25       0.33333333 1.9047619  2.17391304 3.52941176]\n"
          ]
        }
      ]
    },
    {
      "cell_type": "code",
      "source": [
        "n=np.add(a1,a2)\n",
        "print(n)"
      ],
      "metadata": {
        "colab": {
          "base_uri": "https://localhost:8080/"
        },
        "id": "KXJlSF_xRXj6",
        "outputId": "c386e3c1-84a0-4060-9347-c4c1cd8a9ac4"
      },
      "execution_count": null,
      "outputs": [
        {
          "output_type": "stream",
          "name": "stdout",
          "text": [
            "[ 80 100 120  61  73  77]\n"
          ]
        }
      ]
    },
    {
      "cell_type": "code",
      "source": [
        "n=np.mod(a1,a2)\n",
        "print(n)"
      ],
      "metadata": {
        "colab": {
          "base_uri": "https://localhost:8080/"
        },
        "id": "-c13BI51RI8J",
        "outputId": "6d213b84-43f1-4b2d-d391-a4ed5ea2e793"
      },
      "execution_count": null,
      "outputs": [
        {
          "output_type": "stream",
          "name": "stdout",
          "text": [
            "[10 20 30 19  4  9]\n"
          ]
        }
      ]
    },
    {
      "cell_type": "code",
      "source": [
        "n=np.divmod(a1,a2)\n",
        "print(n)"
      ],
      "metadata": {
        "colab": {
          "base_uri": "https://localhost:8080/"
        },
        "id": "xR89nl07ROh9",
        "outputId": "00662cfd-c1e6-4c46-85ec-464a96d2f5ce"
      },
      "execution_count": null,
      "outputs": [
        {
          "output_type": "stream",
          "name": "stdout",
          "text": [
            "(array([0, 0, 0, 1, 2, 3]), array([10, 20, 30, 19,  4,  9]))\n"
          ]
        }
      ]
    },
    {
      "cell_type": "markdown",
      "source": [
        "LOGARITHMS"
      ],
      "metadata": {
        "id": "twGiRRP5SXPB"
      }
    },
    {
      "cell_type": "code",
      "source": [
        "b1=7\n",
        "print(np.log(b1)) #natural log e"
      ],
      "metadata": {
        "colab": {
          "base_uri": "https://localhost:8080/"
        },
        "id": "Pjw3y9rNSa3o",
        "outputId": "ec1ca6ed-28cb-4f0d-9cbe-bf955c566dd9"
      },
      "execution_count": null,
      "outputs": [
        {
          "output_type": "stream",
          "name": "stdout",
          "text": [
            "1.9459101490553132\n"
          ]
        }
      ]
    },
    {
      "cell_type": "code",
      "source": [
        "b1=7\n",
        "print(np.log2(b1)) #log base 2"
      ],
      "metadata": {
        "colab": {
          "base_uri": "https://localhost:8080/"
        },
        "id": "lmc6toSHTKN8",
        "outputId": "78ecb97b-9887-44b6-89b8-6c14a8db622a"
      },
      "execution_count": null,
      "outputs": [
        {
          "output_type": "stream",
          "name": "stdout",
          "text": [
            "2.807354922057604\n"
          ]
        }
      ]
    },
    {
      "cell_type": "code",
      "source": [
        "b1=7\n",
        "print(np.log10(b1)) #log base 10"
      ],
      "metadata": {
        "colab": {
          "base_uri": "https://localhost:8080/"
        },
        "id": "Br1TpGaHTl0B",
        "outputId": "eb1f9f0a-1374-4b99-b240-60fb1113c058"
      },
      "execution_count": null,
      "outputs": [
        {
          "output_type": "stream",
          "name": "stdout",
          "text": [
            "0.8450980400142568\n"
          ]
        }
      ]
    },
    {
      "cell_type": "code",
      "source": [
        "S=np.array([1,2,3,4,5])\n",
        "print(np.log(S))"
      ],
      "metadata": {
        "colab": {
          "base_uri": "https://localhost:8080/"
        },
        "id": "fo46Dk5mTyoS",
        "outputId": "4f3d0da5-d227-4750-82a3-e2c015e33cee"
      },
      "execution_count": null,
      "outputs": [
        {
          "output_type": "stream",
          "name": "stdout",
          "text": [
            "[0.         0.69314718 1.09861229 1.38629436 1.60943791]\n"
          ]
        }
      ]
    },
    {
      "cell_type": "markdown",
      "source": [
        "Other Mathematical Functions"
      ],
      "metadata": {
        "id": "fEKH-WppUwOx"
      }
    },
    {
      "cell_type": "code",
      "source": [
        "a3=np.array([6,7,8,9])\n",
        "y=np.cumprod(a3)\n",
        "print(y)"
      ],
      "metadata": {
        "colab": {
          "base_uri": "https://localhost:8080/"
        },
        "id": "Ggx83TBVUv1Q",
        "outputId": "ca794fb4-0227-460b-fbae-a7e59922c069"
      },
      "execution_count": null,
      "outputs": [
        {
          "output_type": "stream",
          "name": "stdout",
          "text": [
            "[   6   42  336 3024]\n"
          ]
        }
      ]
    },
    {
      "cell_type": "code",
      "source": [
        "y=np.cumsum(a3)\n",
        "print(y)"
      ],
      "metadata": {
        "colab": {
          "base_uri": "https://localhost:8080/"
        },
        "id": "swyj8UR5WJfX",
        "outputId": "2946a359-58e0-46e8-b73f-616d72bdca33"
      },
      "execution_count": null,
      "outputs": [
        {
          "output_type": "stream",
          "name": "stdout",
          "text": [
            "[ 47 103 127 217]\n"
          ]
        }
      ]
    },
    {
      "cell_type": "code",
      "source": [
        "a3=np.array([47,56,24,90]) #e2-e1\n",
        "z=np.diff(a3)\n",
        "print(z)"
      ],
      "metadata": {
        "colab": {
          "base_uri": "https://localhost:8080/"
        },
        "id": "XeavhTAPVSgz",
        "outputId": "48886569-7c33-4b75-c728-89041efeca1d"
      },
      "execution_count": null,
      "outputs": [
        {
          "output_type": "stream",
          "name": "stdout",
          "text": [
            "[  9 -32  66]\n"
          ]
        }
      ]
    },
    {
      "cell_type": "code",
      "source": [
        "n1=567\n",
        "n2=654\n",
        "s=np.lcm(n1,n2)\n",
        "print(s)"
      ],
      "metadata": {
        "colab": {
          "base_uri": "https://localhost:8080/"
        },
        "id": "1xbHMLCEVOW5",
        "outputId": "fd2b28c2-542e-4482-ae0d-0048e1e4c52a"
      },
      "execution_count": null,
      "outputs": [
        {
          "output_type": "stream",
          "name": "stdout",
          "text": [
            "123606\n"
          ]
        }
      ]
    },
    {
      "cell_type": "code",
      "source": [
        "s=np.gcd(n1,n2)\n",
        "print(s)"
      ],
      "metadata": {
        "colab": {
          "base_uri": "https://localhost:8080/"
        },
        "id": "cMn1t9QfV_Py",
        "outputId": "30c19016-54af-4d0a-f7a8-485c20ea256f"
      },
      "execution_count": null,
      "outputs": [
        {
          "output_type": "stream",
          "name": "stdout",
          "text": [
            "3\n"
          ]
        }
      ]
    },
    {
      "cell_type": "code",
      "source": [
        "t=np.array([7,23,25,17])\n",
        "gc=np.gcd.reduce(t)       #takes multiple inputs gives single output\n",
        "print(gc)"
      ],
      "metadata": {
        "colab": {
          "base_uri": "https://localhost:8080/"
        },
        "id": "V7ygv05lWrHG",
        "outputId": "ed737f81-ba71-4942-9500-e59b5a050441"
      },
      "execution_count": null,
      "outputs": [
        {
          "output_type": "stream",
          "name": "stdout",
          "text": [
            "1\n"
          ]
        }
      ]
    },
    {
      "cell_type": "code",
      "source": [
        "t=np.array([7,23,25,17])\n",
        "lc=np.lcm.reduce(t)       #takes multiple inputs gives single output\n",
        "print(lc)"
      ],
      "metadata": {
        "colab": {
          "base_uri": "https://localhost:8080/"
        },
        "id": "e0fXDiUjXjaO",
        "outputId": "af7f8aaa-7e1f-4872-a243-74abd6a73888"
      },
      "execution_count": null,
      "outputs": [
        {
          "output_type": "stream",
          "name": "stdout",
          "text": [
            "68425\n"
          ]
        }
      ]
    }
  ]
}