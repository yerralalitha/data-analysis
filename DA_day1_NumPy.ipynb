{
  "nbformat": 4,
  "nbformat_minor": 0,
  "metadata": {
    "colab": {
      "provenance": []
    },
    "kernelspec": {
      "name": "python3",
      "display_name": "Python 3"
    },
    "language_info": {
      "name": "python"
    }
  },
  "cells": [
    {
      "cell_type": "code",
      "execution_count": null,
      "metadata": {
        "id": "KdjEEP6hed9j"
      },
      "outputs": [],
      "source": [
        "#importing\n",
        "import numpy as np"
      ]
    },
    {
      "cell_type": "markdown",
      "source": [
        "ARRAYS"
      ],
      "metadata": {
        "id": "E60r7VUegsIa"
      }
    },
    {
      "cell_type": "code",
      "source": [
        "#creating 1D array\n",
        "A=np.array([2,3,4,5])\n",
        "print(type(A))"
      ],
      "metadata": {
        "colab": {
          "base_uri": "https://localhost:8080/"
        },
        "id": "Ll5QyNwegt-a",
        "outputId": "8b5f2748-bff5-4fa5-ad4c-fdfe5bc05634"
      },
      "execution_count": null,
      "outputs": [
        {
          "output_type": "stream",
          "name": "stdout",
          "text": [
            "<class 'numpy.ndarray'>\n"
          ]
        }
      ]
    },
    {
      "cell_type": "code",
      "source": [
        "#creating a 2D array\n",
        "B=np.array([[1,2,3],[4,5,6]])\n",
        "print(B)"
      ],
      "metadata": {
        "colab": {
          "base_uri": "https://localhost:8080/"
        },
        "id": "uK8RYeH9hOso",
        "outputId": "bd4042f0-3f34-4485-f33b-27ac56514b6e"
      },
      "execution_count": null,
      "outputs": [
        {
          "output_type": "stream",
          "name": "stdout",
          "text": [
            "[[1 2 3]\n",
            " [4 5 6]]\n"
          ]
        }
      ]
    },
    {
      "cell_type": "code",
      "source": [
        "#creating a 3D array\n",
        "C=np.array([[[7,8,9],[9,8,7]],[[1,2,3],[3,2,1]]])\n",
        "print(C)"
      ],
      "metadata": {
        "colab": {
          "base_uri": "https://localhost:8080/"
        },
        "id": "zh7tUWHAiiIR",
        "outputId": "65de6e10-c63b-4fa2-97d2-a4ecd3c5f7c6"
      },
      "execution_count": null,
      "outputs": [
        {
          "output_type": "stream",
          "name": "stdout",
          "text": [
            "[[[7 8 9]\n",
            "  [9 8 7]]\n",
            "\n",
            " [[1 2 3]\n",
            "  [3 2 1]]]\n"
          ]
        }
      ]
    },
    {
      "cell_type": "code",
      "source": [
        "#creating dimensions\n",
        "print(A.ndim)\n",
        "print(B.ndim)\n",
        "print(C.ndim)"
      ],
      "metadata": {
        "colab": {
          "base_uri": "https://localhost:8080/"
        },
        "id": "eV_gj0wsjMCU",
        "outputId": "b8cba341-bade-4ce2-c48f-5e241cab4f99"
      },
      "execution_count": null,
      "outputs": [
        {
          "output_type": "stream",
          "name": "stdout",
          "text": [
            "1\n",
            "2\n",
            "3\n"
          ]
        }
      ]
    },
    {
      "cell_type": "code",
      "source": [
        "#ones\n",
        "D=np.ones((2,3,2)) #groups,rows,columns,3D\n",
        "print(D)"
      ],
      "metadata": {
        "colab": {
          "base_uri": "https://localhost:8080/"
        },
        "id": "AfgMpSDej3qs",
        "outputId": "75fab1b8-846a-4c5e-c01e-63b3b8e806d1"
      },
      "execution_count": null,
      "outputs": [
        {
          "output_type": "stream",
          "name": "stdout",
          "text": [
            "[[[1. 1.]\n",
            "  [1. 1.]\n",
            "  [1. 1.]]\n",
            "\n",
            " [[1. 1.]\n",
            "  [1. 1.]\n",
            "  [1. 1.]]]\n"
          ]
        }
      ]
    },
    {
      "cell_type": "code",
      "source": [
        "#ones\n",
        "E=np.ones((3,2)) #rows,columns,2D\n",
        "print(E)"
      ],
      "metadata": {
        "colab": {
          "base_uri": "https://localhost:8080/"
        },
        "id": "7BYOXRuak_kh",
        "outputId": "bcef050e-52ad-4a9d-bad0-5cc8f3117e8c"
      },
      "execution_count": null,
      "outputs": [
        {
          "output_type": "stream",
          "name": "stdout",
          "text": [
            "[[1. 1.]\n",
            " [1. 1.]\n",
            " [1. 1.]]\n"
          ]
        }
      ]
    },
    {
      "cell_type": "code",
      "source": [
        "#zeros\n",
        "F=np.zeros((3,2))\n",
        "print(F)"
      ],
      "metadata": {
        "colab": {
          "base_uri": "https://localhost:8080/"
        },
        "id": "JjB2jN4LmJJD",
        "outputId": "e6f7122f-abea-4919-d043-7664788368a5"
      },
      "execution_count": null,
      "outputs": [
        {
          "output_type": "stream",
          "name": "stdout",
          "text": [
            "[[0. 0.]\n",
            " [0. 0.]\n",
            " [0. 0.]]\n"
          ]
        }
      ]
    },
    {
      "cell_type": "code",
      "source": [
        "F=np.zeros((2,3,2))\n",
        "print(F)"
      ],
      "metadata": {
        "colab": {
          "base_uri": "https://localhost:8080/"
        },
        "id": "guz-ro3VmTgp",
        "outputId": "f2327ff7-98eb-4a68-abfb-d5ccbbb9599f"
      },
      "execution_count": null,
      "outputs": [
        {
          "output_type": "stream",
          "name": "stdout",
          "text": [
            "[[[0. 0.]\n",
            "  [0. 0.]\n",
            "  [0. 0.]]\n",
            "\n",
            " [[0. 0.]\n",
            "  [0. 0.]\n",
            "  [0. 0.]]]\n"
          ]
        }
      ]
    },
    {
      "cell_type": "code",
      "source": [
        "G=np.eye(4)\n",
        "print(G)"
      ],
      "metadata": {
        "colab": {
          "base_uri": "https://localhost:8080/"
        },
        "id": "KVoF2KHWmuYf",
        "outputId": "333fc527-1ac4-4023-c039-7134c14df28f"
      },
      "execution_count": null,
      "outputs": [
        {
          "output_type": "stream",
          "name": "stdout",
          "text": [
            "[[1. 0. 0. 0.]\n",
            " [0. 1. 0. 0.]\n",
            " [0. 0. 1. 0.]\n",
            " [0. 0. 0. 1.]]\n"
          ]
        }
      ]
    },
    {
      "cell_type": "code",
      "source": [
        "H=np.eye(2,2)\n",
        "print(H)"
      ],
      "metadata": {
        "colab": {
          "base_uri": "https://localhost:8080/"
        },
        "id": "Oanpo7RAn0Gd",
        "outputId": "acb1300f-a117-4e8e-9c1e-0d2e0a3add39"
      },
      "execution_count": null,
      "outputs": [
        {
          "output_type": "stream",
          "name": "stdout",
          "text": [
            "[[1. 0.]\n",
            " [0. 1.]]\n"
          ]
        }
      ]
    },
    {
      "cell_type": "code",
      "source": [
        "#arange\n",
        "I=np.arange(3,31,3) #start,stop,step\n",
        "print(I)"
      ],
      "metadata": {
        "colab": {
          "base_uri": "https://localhost:8080/"
        },
        "id": "olvEZG7yoKMu",
        "outputId": "69517216-45d6-44ab-ba52-c140019112b9"
      },
      "execution_count": null,
      "outputs": [
        {
          "output_type": "stream",
          "name": "stdout",
          "text": [
            "[ 3  6  9 12 15 18 21 24 27 30]\n"
          ]
        }
      ]
    },
    {
      "cell_type": "code",
      "source": [
        "J=np.arange(3,31,3).reshape(5,2)\n",
        "print(J)"
      ],
      "metadata": {
        "colab": {
          "base_uri": "https://localhost:8080/"
        },
        "id": "Ac1Glu6-ojiJ",
        "outputId": "3bd5edf0-2952-40c3-a6bf-890ad8dc6a6a"
      },
      "execution_count": null,
      "outputs": [
        {
          "output_type": "stream",
          "name": "stdout",
          "text": [
            "[[ 3  6]\n",
            " [ 9 12]\n",
            " [15 18]\n",
            " [21 24]\n",
            " [27 30]]\n"
          ]
        }
      ]
    },
    {
      "cell_type": "code",
      "source": [
        "K=np.arange(5,1001,5)\n",
        "print(K)"
      ],
      "metadata": {
        "colab": {
          "base_uri": "https://localhost:8080/"
        },
        "id": "dzxnIE1vpDl8",
        "outputId": "c05ef4ac-5a46-4fbc-fffc-89d33e1ddd17"
      },
      "execution_count": null,
      "outputs": [
        {
          "output_type": "stream",
          "name": "stdout",
          "text": [
            "[   5   10   15   20   25   30   35   40   45   50   55   60   65   70\n",
            "   75   80   85   90   95  100  105  110  115  120  125  130  135  140\n",
            "  145  150  155  160  165  170  175  180  185  190  195  200  205  210\n",
            "  215  220  225  230  235  240  245  250  255  260  265  270  275  280\n",
            "  285  290  295  300  305  310  315  320  325  330  335  340  345  350\n",
            "  355  360  365  370  375  380  385  390  395  400  405  410  415  420\n",
            "  425  430  435  440  445  450  455  460  465  470  475  480  485  490\n",
            "  495  500  505  510  515  520  525  530  535  540  545  550  555  560\n",
            "  565  570  575  580  585  590  595  600  605  610  615  620  625  630\n",
            "  635  640  645  650  655  660  665  670  675  680  685  690  695  700\n",
            "  705  710  715  720  725  730  735  740  745  750  755  760  765  770\n",
            "  775  780  785  790  795  800  805  810  815  820  825  830  835  840\n",
            "  845  850  855  860  865  870  875  880  885  890  895  900  905  910\n",
            "  915  920  925  930  935  940  945  950  955  960  965  970  975  980\n",
            "  985  990  995 1000]\n"
          ]
        }
      ]
    },
    {
      "cell_type": "code",
      "source": [
        "L=np.linspace(12,24,10)\n",
        "print(L)"
      ],
      "metadata": {
        "colab": {
          "base_uri": "https://localhost:8080/"
        },
        "id": "QAvt6n6pplDE",
        "outputId": "daae886c-bdf7-43ee-94a9-e980c4775b23"
      },
      "execution_count": null,
      "outputs": [
        {
          "output_type": "stream",
          "name": "stdout",
          "text": [
            "[12.         13.33333333 14.66666667 16.         17.33333333 18.66666667\n",
            " 20.         21.33333333 22.66666667 24.        ]\n"
          ]
        }
      ]
    },
    {
      "cell_type": "code",
      "source": [
        "M=np.arange(1,7).reshape(2,3)\n",
        "print(M)\n",
        "N=np.arange(7,13).reshape(2,3)\n",
        "print(N)"
      ],
      "metadata": {
        "colab": {
          "base_uri": "https://localhost:8080/"
        },
        "id": "lgA4I81erT-k",
        "outputId": "fff2703e-49e6-426c-bf28-43468f2038dc"
      },
      "execution_count": null,
      "outputs": [
        {
          "output_type": "stream",
          "name": "stdout",
          "text": [
            "[[1 2 3]\n",
            " [4 5 6]]\n",
            "[[ 7  8  9]\n",
            " [10 11 12]]\n"
          ]
        }
      ]
    },
    {
      "cell_type": "code",
      "source": [
        "print(M+N)"
      ],
      "metadata": {
        "colab": {
          "base_uri": "https://localhost:8080/"
        },
        "id": "zF5n1Pulr8Zh",
        "outputId": "852915dd-446a-4d9a-d21b-ec5f61385647"
      },
      "execution_count": null,
      "outputs": [
        {
          "output_type": "stream",
          "name": "stdout",
          "text": [
            "[[ 8 10 12]\n",
            " [14 16 18]]\n"
          ]
        }
      ]
    },
    {
      "cell_type": "code",
      "source": [
        "O=np.sum((M,N))\n",
        "print(O)"
      ],
      "metadata": {
        "colab": {
          "base_uri": "https://localhost:8080/"
        },
        "id": "-QdN9rbhsEDp",
        "outputId": "b6249db7-f59d-4781-83ce-603b5dc26bf2"
      },
      "execution_count": null,
      "outputs": [
        {
          "output_type": "stream",
          "name": "stdout",
          "text": [
            "78\n"
          ]
        }
      ]
    },
    {
      "cell_type": "code",
      "source": [
        "O=np.sum((M,N),axis=0) #0 is columns\n",
        "print(O)"
      ],
      "metadata": {
        "colab": {
          "base_uri": "https://localhost:8080/"
        },
        "id": "gQEmKcsat-ja",
        "outputId": "0899486c-5ff2-4276-ee61-e70c47e98222"
      },
      "execution_count": null,
      "outputs": [
        {
          "output_type": "stream",
          "name": "stdout",
          "text": [
            "[[ 8 10 12]\n",
            " [14 16 18]]\n"
          ]
        }
      ]
    },
    {
      "cell_type": "code",
      "source": [
        "O=np.sum((M,N),axis=1) #1 is rows\n",
        "print(O)"
      ],
      "metadata": {
        "colab": {
          "base_uri": "https://localhost:8080/"
        },
        "id": "jDgKF-acu3Mg",
        "outputId": "753d4083-6791-4566-906b-a032ba1987a0"
      },
      "execution_count": null,
      "outputs": [
        {
          "output_type": "stream",
          "name": "stdout",
          "text": [
            "[[ 5  7  9]\n",
            " [17 19 21]]\n"
          ]
        }
      ]
    },
    {
      "cell_type": "code",
      "source": [
        "O=np.sum((M,N),axis=2) #2 is groups\n",
        "print(O)"
      ],
      "metadata": {
        "colab": {
          "base_uri": "https://localhost:8080/"
        },
        "id": "IXrkOrm4vIlw",
        "outputId": "aaec265c-9953-41de-f1c4-31f72ed78c55"
      },
      "execution_count": null,
      "outputs": [
        {
          "output_type": "stream",
          "name": "stdout",
          "text": [
            "[[ 6 15]\n",
            " [24 33]]\n"
          ]
        }
      ]
    },
    {
      "cell_type": "code",
      "source": [
        "P=np.ones((4,2))\n",
        "Q=np.zeros((4,2))\n",
        "print(np.sum((P,Q),axis=0))"
      ],
      "metadata": {
        "colab": {
          "base_uri": "https://localhost:8080/"
        },
        "id": "wBg9EDQkxOP6",
        "outputId": "7583f93f-6507-46c1-b320-d9879c66b972"
      },
      "execution_count": null,
      "outputs": [
        {
          "output_type": "stream",
          "name": "stdout",
          "text": [
            "[[1. 1.]\n",
            " [1. 1.]\n",
            " [1. 1.]\n",
            " [1. 1.]]\n"
          ]
        }
      ]
    },
    {
      "cell_type": "code",
      "source": [
        "R=np.array([[1,1],[0,1]])\n",
        "S=np.array([[2,0],[3,4]])\n",
        "print(R*S)"
      ],
      "metadata": {
        "colab": {
          "base_uri": "https://localhost:8080/"
        },
        "id": "jC88hXSzyvV_",
        "outputId": "bd5aa970-13e2-4470-9872-2cf2eebe99d1"
      },
      "execution_count": null,
      "outputs": [
        {
          "output_type": "stream",
          "name": "stdout",
          "text": [
            "[[2 0]\n",
            " [0 4]]\n"
          ]
        }
      ]
    },
    {
      "cell_type": "code",
      "source": [
        "print(R@S)"
      ],
      "metadata": {
        "colab": {
          "base_uri": "https://localhost:8080/"
        },
        "id": "cdK8Q20QzJwL",
        "outputId": "8c0f4de3-feed-43ff-f6f8-8ed5fdb4694f"
      },
      "execution_count": null,
      "outputs": [
        {
          "output_type": "stream",
          "name": "stdout",
          "text": [
            "[[5 4]\n",
            " [3 4]]\n"
          ]
        }
      ]
    },
    {
      "cell_type": "code",
      "source": [
        "#find square roots and iterate result values output:5 square is 25...\n",
        "b=np.array([25,289,361,81])\n",
        "for i in b:\n",
        "  print(int(np.sqrt(i)),\"square\",i)\n"
      ],
      "metadata": {
        "colab": {
          "base_uri": "https://localhost:8080/"
        },
        "id": "rkh_qInszOBm",
        "outputId": "ae04c24e-99da-45c7-9ebb-767ec0fcb9c7"
      },
      "execution_count": null,
      "outputs": [
        {
          "output_type": "stream",
          "name": "stdout",
          "text": [
            "5 square 25\n",
            "17 square 289\n",
            "19 square 361\n",
            "9 square 81\n"
          ]
        }
      ]
    },
    {
      "cell_type": "code",
      "source": [
        "a=np.array([34,35,36,37,38,39])\n",
        "a.resize(2,3)\n",
        "b=np.array([4,5,6,7,8,9])\n",
        "b.resize(2,3)\n",
        "print(a)\n",
        "print(b)\n",
        "print(\"\\n\")\n",
        "print(np.vstack((a,b))) #columns\n",
        "print(\"\\n\")\n",
        "print(np.hstack((a,b))) #rows"
      ],
      "metadata": {
        "colab": {
          "base_uri": "https://localhost:8080/"
        },
        "id": "yVLTTpM252As",
        "outputId": "c2ff09b0-ceda-4ab2-c64b-a8d022615bc8"
      },
      "execution_count": null,
      "outputs": [
        {
          "output_type": "stream",
          "name": "stdout",
          "text": [
            "[[34 35 36]\n",
            " [37 38 39]]\n",
            "[[4 5 6]\n",
            " [7 8 9]]\n",
            "\n",
            "\n",
            "[[34 35 36]\n",
            " [37 38 39]\n",
            " [ 4  5  6]\n",
            " [ 7  8  9]]\n",
            "\n",
            "\n",
            "[[34 35 36  4  5  6]\n",
            " [37 38 39  7  8  9]]\n"
          ]
        }
      ]
    },
    {
      "cell_type": "code",
      "source": [
        "a=np.arange(30).reshape(2,3,5)\n",
        "print(a)\n",
        "print(\"\\n\")\n",
        "print(np.dstack(a))\n",
        "#number of rows becomes number of groups\n",
        "#columns become rows\n",
        "#group becomes columns\n",
        "\n",
        "#number of groups=2 ->2 columns in each group\n",
        "#number of rows=3   ->3 groups formed"
      ],
      "metadata": {
        "colab": {
          "base_uri": "https://localhost:8080/"
        },
        "id": "lIPRRAgG9PDP",
        "outputId": "5472941c-9816-4897-fadc-99418e27467c"
      },
      "execution_count": null,
      "outputs": [
        {
          "output_type": "stream",
          "name": "stdout",
          "text": [
            "[[[ 0  1  2  3  4]\n",
            "  [ 5  6  7  8  9]\n",
            "  [10 11 12 13 14]]\n",
            "\n",
            " [[15 16 17 18 19]\n",
            "  [20 21 22 23 24]\n",
            "  [25 26 27 28 29]]]\n",
            "\n",
            "\n",
            "[[[ 0 15]\n",
            "  [ 1 16]\n",
            "  [ 2 17]\n",
            "  [ 3 18]\n",
            "  [ 4 19]]\n",
            "\n",
            " [[ 5 20]\n",
            "  [ 6 21]\n",
            "  [ 7 22]\n",
            "  [ 8 23]\n",
            "  [ 9 24]]\n",
            "\n",
            " [[10 25]\n",
            "  [11 26]\n",
            "  [12 27]\n",
            "  [13 28]\n",
            "  [14 29]]]\n"
          ]
        }
      ]
    }
  ]
}